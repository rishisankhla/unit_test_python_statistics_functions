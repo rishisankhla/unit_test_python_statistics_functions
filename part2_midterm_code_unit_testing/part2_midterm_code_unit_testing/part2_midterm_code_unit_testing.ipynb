{
 "cells": [
  {
   "cell_type": "code",
   "execution_count": 1,
   "metadata": {},
   "outputs": [],
   "source": [
    "import unittest\n",
    "import snakestats\n",
    "import statistics\n",
    "import numpy as np"
   ]
  },
  {
   "cell_type": "code",
   "execution_count": 14,
   "metadata": {},
   "outputs": [
    {
     "name": "stderr",
     "output_type": "stream",
     "text": [
      "test_max (__main__.TestsForSnakeStats) ... FAIL\n",
      "test_mean (__main__.TestsForSnakeStats) ... FAIL\n",
      "test_mode (__main__.TestsForSnakeStats) ... ERROR\n",
      "\n",
      "======================================================================\n",
      "ERROR: test_mode (__main__.TestsForSnakeStats)\n",
      "----------------------------------------------------------------------\n",
      "Traceback (most recent call last):\n",
      "  File \"<ipython-input-14-b021a2883284>\", line 12, in test_mode\n",
      "    result1 = snakestats.mode1(ourlist)\n",
      "  File \"C:\\Users\\rishy\\Desktop\\rr\\PWD Midterm\\New folder\\snakestats.py\", line 81, in mode1\n",
      "    result=max(zip(p.vales(), p.keys()))[1]\n",
      "AttributeError: 'dict' object has no attribute 'vales'\n",
      "\n",
      "======================================================================\n",
      "FAIL: test_max (__main__.TestsForSnakeStats)\n",
      "----------------------------------------------------------------------\n",
      "Traceback (most recent call last):\n",
      "  File \"<ipython-input-14-b021a2883284>\", line 21, in test_max\n",
      "    self.assertTrue(result1==result2)\n",
      "AssertionError: False is not true\n",
      "\n",
      "======================================================================\n",
      "FAIL: test_mean (__main__.TestsForSnakeStats)\n",
      "----------------------------------------------------------------------\n",
      "Traceback (most recent call last):\n",
      "  File \"<ipython-input-14-b021a2883284>\", line 8, in test_mean\n",
      "    self.assertEqual(result1, result2)\n",
      "AssertionError: 23.444444444444443 != 30.666666666666668\n",
      "\n",
      "----------------------------------------------------------------------\n",
      "Ran 3 tests in 0.005s\n",
      "\n",
      "FAILED (failures=2, errors=1)\n"
     ]
    },
    {
     "data": {
      "text/plain": [
       "<unittest.main.TestProgram at 0x17193aaed48>"
      ]
     },
     "execution_count": 14,
     "metadata": {},
     "output_type": "execute_result"
    }
   ],
   "source": [
    "#building our test class\n",
    "class TestsForSnakeStats(unittest.TestCase):\n",
    "        \n",
    "    def test_mean(self):\n",
    "        ourlist=[44,78,45,44,41,5,5,5,9]\n",
    "        result1 = snakestats.mean1(ourlist)\n",
    "        result2 = statistics.mean(ourlist)\n",
    "        self.assertEqual(result1, result2)  \n",
    "        \n",
    "    def test_mode(self):\n",
    "        ourlist=[44,78,45,44,41,5,5,5,9]\n",
    "        result1 = snakestats.mode1(ourlist)\n",
    "        result2 = statistics.mode(ourlist)\n",
    "        x=result1==result2\n",
    "        self.assertTrue(x)\n",
    "        \n",
    "    def test_max(self):\n",
    "        ourlist=[1,2,3,4,7]\n",
    "        result1 = snakestats.max1(ourlist)\n",
    "        result2 = np.max(ourlist)\n",
    "        self.assertTrue(result1==result2)\n",
    "        \n",
    "# calling main() of unittest to run all the test \n",
    "unittest.main(argv=['ignored', '-v'], exit=False)"
   ]
  },
  {
   "cell_type": "code",
   "execution_count": 13,
   "metadata": {},
   "outputs": [
    {
     "name": "stderr",
     "output_type": "stream",
     "text": [
      "test_max (__main__.TestsForSnakeStats) ... ok\n",
      "test_mean (__main__.TestsForSnakeStats) ... ok\n",
      "test_mode (__main__.TestsForSnakeStats) ... ok\n",
      "\n",
      "----------------------------------------------------------------------\n",
      "Ran 3 tests in 0.004s\n",
      "\n",
      "OK\n"
     ]
    },
    {
     "data": {
      "text/plain": [
       "<unittest.main.TestProgram at 0x17193a87288>"
      ]
     },
     "execution_count": 13,
     "metadata": {},
     "output_type": "execute_result"
    }
   ],
   "source": [
    "#building our test class\n",
    "class TestsForSnakeStats(unittest.TestCase):\n",
    "        \n",
    "    def test_mean(self):\n",
    "        ourlist=[44,78,45,44,41,5,5,5,9]\n",
    "        result1 = snakestats.mean2(ourlist)\n",
    "        result2 = statistics.mean(ourlist)\n",
    "        self.assertEqual(result1, result2)  \n",
    "        \n",
    "    def test_mode(self):\n",
    "        ourlist=[44,78,45,44,41,5,5,5,9]\n",
    "        result1 = snakestats.mode2(ourlist)\n",
    "        result2 = statistics.mode(ourlist)\n",
    "        x=result1==result2\n",
    "        self.assertTrue(x)\n",
    "        \n",
    "    def test_max(self):\n",
    "        ourlist=[1,2,3,4,7]\n",
    "        result1 = snakestats.max2(ourlist)\n",
    "        result2 = np.max(ourlist)\n",
    "        self.assertTrue(result1==result2)\n",
    "        \n",
    "# calling main() of unittest to run all the test \n",
    "unittest.main(argv=['ignored', '-v'], exit=False)"
   ]
  },
  {
   "cell_type": "code",
   "execution_count": 15,
   "metadata": {
    "scrolled": true
   },
   "outputs": [
    {
     "name": "stderr",
     "output_type": "stream",
     "text": [
      "test_harmonicmean (__main__.TestsForSnakeStats) ... FAIL\n",
      "test_std (__main__.TestsForSnakeStats) ... FAIL\n",
      "test_variance (__main__.TestsForSnakeStats) ... FAIL\n",
      "\n",
      "======================================================================\n",
      "FAIL: test_harmonicmean (__main__.TestsForSnakeStats)\n",
      "----------------------------------------------------------------------\n",
      "Traceback (most recent call last):\n",
      "  File \"<ipython-input-15-78686ef93162>\", line 22, in test_harmonicmean\n",
      "    self.assertFalse(x)\n",
      "AssertionError: True is not false\n",
      "\n",
      "======================================================================\n",
      "FAIL: test_std (__main__.TestsForSnakeStats)\n",
      "----------------------------------------------------------------------\n",
      "Traceback (most recent call last):\n",
      "  File \"<ipython-input-15-78686ef93162>\", line 15, in test_std\n",
      "    self.assertTrue(x)\n",
      "AssertionError: False is not true\n",
      "\n",
      "======================================================================\n",
      "FAIL: test_variance (__main__.TestsForSnakeStats)\n",
      "----------------------------------------------------------------------\n",
      "Traceback (most recent call last):\n",
      "  File \"<ipython-input-15-78686ef93162>\", line 8, in test_variance\n",
      "    self.assertEqual(result1, result2)\n",
      "AssertionError: 961.1999999999999 != 192.23999999999998\n",
      "\n",
      "----------------------------------------------------------------------\n",
      "Ran 3 tests in 0.006s\n",
      "\n",
      "FAILED (failures=3)\n"
     ]
    },
    {
     "data": {
      "text/plain": [
       "<unittest.main.TestProgram at 0x17193a95e48>"
      ]
     },
     "execution_count": 15,
     "metadata": {},
     "output_type": "execute_result"
    }
   ],
   "source": [
    "#building our test class\n",
    "class TestsForSnakeStats(unittest.TestCase):\n",
    "    \n",
    "    def test_variance(self):\n",
    "        ourlist=[44,78,45,44,41]\n",
    "        result1 = snakestats.variance1(ourlist)\n",
    "        result2 = np.var(ourlist)\n",
    "        self.assertEqual(result1, result2)\n",
    "        \n",
    "    def test_std(self):\n",
    "        ourlist=[44,78,45,44,41,5,5,5,9]\n",
    "        result1 = snakestats.standard1(ourlist)\n",
    "        result2 = np.std(ourlist)\n",
    "        x=result1==result2\n",
    "        self.assertTrue(x)\n",
    "        \n",
    "    def test_harmonicmean(self):\n",
    "        ourlist=[44,78,45,44,41,5,5,5,9]\n",
    "        result1 = snakestats.harmonicmean1(ourlist)\n",
    "        result3 = statistics.harmonic_mean(ourlist)\n",
    "        x=result1!=result3\n",
    "        self.assertFalse(x)\n",
    "        \n",
    "# calling main() of unittest to run all the test \n",
    "unittest.main(argv=['ignored', '-v'], exit=False)"
   ]
  },
  {
   "cell_type": "code",
   "execution_count": 16,
   "metadata": {},
   "outputs": [
    {
     "name": "stderr",
     "output_type": "stream",
     "text": [
      "test_harmonicmean (__main__.TestsForSnakeStats) ... ok\n",
      "test_std (__main__.TestsForSnakeStats) ... ok\n",
      "test_variance (__main__.TestsForSnakeStats) ... ok\n",
      "\n",
      "----------------------------------------------------------------------\n",
      "Ran 3 tests in 0.004s\n",
      "\n",
      "OK\n"
     ]
    },
    {
     "data": {
      "text/plain": [
       "<unittest.main.TestProgram at 0x17193aabf48>"
      ]
     },
     "execution_count": 16,
     "metadata": {},
     "output_type": "execute_result"
    }
   ],
   "source": [
    "#building our test class\n",
    "class TestsForSnakeStats(unittest.TestCase):\n",
    "    \n",
    "    def test_variance(self):\n",
    "        ourlist=[44,78,45,44,41]\n",
    "        result1 = snakestats.variance2(ourlist)\n",
    "        result2 = np.var(ourlist)\n",
    "        self.assertEqual(result1, result2)\n",
    "        \n",
    "    def test_std(self):\n",
    "        ourlist=[44,78,45,44,41,5,5,5,9]\n",
    "        result1 = snakestats.standard2(ourlist)\n",
    "        result2 = np.std(ourlist)\n",
    "        x=result1==result2\n",
    "        self.assertTrue(x)\n",
    "        \n",
    "    def test_harmonicmean(self):\n",
    "        ourlist=[44,78,45,44,41,5,5,5,9]\n",
    "        result1 = snakestats.harmonicmean2(ourlist)\n",
    "        result3 = statistics.harmonic_mean(ourlist)\n",
    "        x=result1!=result3\n",
    "        self.assertFalse(x)\n",
    "        \n",
    "# calling main() of unittest to run all the test \n",
    "unittest.main(argv=['ignored', '-v'], exit=False)"
   ]
  },
  {
   "cell_type": "code",
   "execution_count": 17,
   "metadata": {},
   "outputs": [
    {
     "name": "stderr",
     "output_type": "stream",
     "text": [
      "test_groupedmedian (__main__.TestsForSnakeStats) ... ERROR\n",
      "test_median (__main__.TestsForSnakeStats) ... FAIL\n",
      "test_medianhigh (__main__.TestsForSnakeStats) ... FAIL\n",
      "\n",
      "======================================================================\n",
      "ERROR: test_groupedmedian (__main__.TestsForSnakeStats)\n",
      "----------------------------------------------------------------------\n",
      "Traceback (most recent call last):\n",
      "  File \"<ipython-input-17-153da9919eae>\", line 12, in test_groupedmedian\n",
      "    result1 = snakestats.groupedmedian1(ourlist)\n",
      "  File \"C:\\Users\\rishy\\Desktop\\rr\\PWD Midterm\\New folder\\snakestats.py\", line 109, in groupedmedian1\n",
      "    result=testlist[i2]+testlist[i1]\n",
      "TypeError: list indices must be integers or slices, not float\n",
      "\n",
      "======================================================================\n",
      "FAIL: test_median (__main__.TestsForSnakeStats)\n",
      "----------------------------------------------------------------------\n",
      "Traceback (most recent call last):\n",
      "  File \"<ipython-input-17-153da9919eae>\", line 8, in test_median\n",
      "    self.assertEqual(result1, result2)\n",
      "AssertionError: 2 != 2.5\n",
      "\n",
      "======================================================================\n",
      "FAIL: test_medianhigh (__main__.TestsForSnakeStats)\n",
      "----------------------------------------------------------------------\n",
      "Traceback (most recent call last):\n",
      "  File \"<ipython-input-17-153da9919eae>\", line 21, in test_medianhigh\n",
      "    self.assertEqual(result1, result2)\n",
      "AssertionError: 4 != 5\n",
      "\n",
      "----------------------------------------------------------------------\n",
      "Ran 3 tests in 0.006s\n",
      "\n",
      "FAILED (failures=2, errors=1)\n"
     ]
    },
    {
     "data": {
      "text/plain": [
       "<unittest.main.TestProgram at 0x17193ae0ac8>"
      ]
     },
     "execution_count": 17,
     "metadata": {},
     "output_type": "execute_result"
    }
   ],
   "source": [
    "#building our test class\n",
    "class TestsForSnakeStats(unittest.TestCase):\n",
    "    \n",
    "    def test_median(self):\n",
    "        ourlist=[1,2,3,4]\n",
    "        result1 = snakestats.median1(ourlist)\n",
    "        result2 = statistics.median(ourlist)\n",
    "        self.assertEqual(result1, result2)\n",
    "        \n",
    "    def test_groupedmedian(self):\n",
    "        ourlist=[52, 52, 53, 54]\n",
    "        result1 = snakestats.groupedmedian1(ourlist)\n",
    "        result3 = statistics.median_grouped(ourlist)\n",
    "        x=result1!=result3\n",
    "        self.assertFalse(x)\n",
    "        \n",
    "    def test_medianhigh(self):\n",
    "        ourlist=[1,2,3,4,5,6,7,8]\n",
    "        result1 = snakestats.medianhigh1(ourlist)\n",
    "        result2 = statistics.median_high(ourlist)\n",
    "        self.assertEqual(result1, result2)\n",
    "        \n",
    "# calling main() of unittest to run all the test \n",
    "unittest.main(argv=['ignored', '-v'], exit=False)"
   ]
  },
  {
   "cell_type": "code",
   "execution_count": 18,
   "metadata": {},
   "outputs": [
    {
     "name": "stderr",
     "output_type": "stream",
     "text": [
      "test_groupedmedian (__main__.TestsForSnakeStats) ... ok\n",
      "test_median (__main__.TestsForSnakeStats) ... ok\n",
      "test_medianhigh (__main__.TestsForSnakeStats) ... ok\n",
      "\n",
      "----------------------------------------------------------------------\n",
      "Ran 3 tests in 0.004s\n",
      "\n",
      "OK\n"
     ]
    },
    {
     "data": {
      "text/plain": [
       "<unittest.main.TestProgram at 0x17193aec4c8>"
      ]
     },
     "execution_count": 18,
     "metadata": {},
     "output_type": "execute_result"
    }
   ],
   "source": [
    "#building our test class\n",
    "class TestsForSnakeStats(unittest.TestCase):\n",
    "    \n",
    "    def test_median(self):\n",
    "        ourlist=[1,2,3,4]\n",
    "        result1 = snakestats.median2(ourlist)\n",
    "        result2 = statistics.median(ourlist)\n",
    "        self.assertEqual(result1, result2)\n",
    "        \n",
    "    def test_groupedmedian(self):\n",
    "        ourlist=[52, 52, 53, 54]\n",
    "        result1 = snakestats.groupedmedian2(ourlist)\n",
    "        result3 = statistics.median_grouped(ourlist)\n",
    "        x=result1!=result3\n",
    "        self.assertFalse(x)\n",
    "        \n",
    "    def test_medianhigh(self):\n",
    "        ourlist=[1,2,3,4,5,6,7,8]\n",
    "        result1 = snakestats.medianhigh2(ourlist)\n",
    "        result2 = statistics.median_high(ourlist)\n",
    "        self.assertEqual(result1, result2)\n",
    "        \n",
    "# calling main() of unittest to run all the test \n",
    "unittest.main(argv=['ignored', '-v'], exit=False)"
   ]
  },
  {
   "cell_type": "code",
   "execution_count": null,
   "metadata": {},
   "outputs": [],
   "source": []
  }
 ],
 "metadata": {
  "kernelspec": {
   "display_name": "Python 3",
   "language": "python",
   "name": "python3"
  },
  "language_info": {
   "codemirror_mode": {
    "name": "ipython",
    "version": 3
   },
   "file_extension": ".py",
   "mimetype": "text/x-python",
   "name": "python",
   "nbconvert_exporter": "python",
   "pygments_lexer": "ipython3",
   "version": "3.7.4"
  }
 },
 "nbformat": 4,
 "nbformat_minor": 2
}
